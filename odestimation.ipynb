{
 "cells": [
  {
   "cell_type": "code",
   "execution_count": 1,
   "id": "c680a6b6",
   "metadata": {},
   "outputs": [],
   "source": [
    "# Basic packages\n",
    "import os\n",
    "import sys\n",
    "import warnings\n",
    "import cufflinks as cf\n",
    "import numpy as np\n",
    "from numpy.linalg import multi_dot\n",
    "import pandas as pd\n",
    "\n",
    "# Plotting packages\n",
    "import matplotlib.pyplot as plt\n",
    "import seaborn as sns\n",
    "import plotly.express as px\n",
    "import plotly.graph_objects as go\n",
    "from plotly.offline import download_plotlyjs, init_notebook_mode, plot, iplot\n",
    "from statsmodels.graphics.tsaplots import plot_acf\n",
    "\n",
    "# Optimization packagaes\n",
    "import gurobipy as gp\n",
    "from gurobipy import GRB\n",
    "import gurobipy_pandas as gppd\n",
    "import scipy.sparse as sp\n",
    "\n",
    "# Statistical packages\n",
    "import scipy.stats\n",
    "import statsmodels.api as sm\n",
    "from statsmodels.formula.api import ols\n",
    "from statsmodels.stats.stattools import durbin_watson"
   ]
  },
  {
   "cell_type": "code",
   "execution_count": 2,
   "id": "d8a5e6f0",
   "metadata": {},
   "outputs": [
    {
     "data": {
      "text/html": [
       "        <script type=\"text/javascript\">\n",
       "        window.PlotlyConfig = {MathJaxConfig: 'local'};\n",
       "        if (window.MathJax && window.MathJax.Hub && window.MathJax.Hub.Config) {window.MathJax.Hub.Config({SVG: {font: \"STIX-Web\"}});}\n",
       "        if (typeof require !== 'undefined') {\n",
       "        require.undef(\"plotly\");\n",
       "        requirejs.config({\n",
       "            paths: {\n",
       "                'plotly': ['https://cdn.plot.ly/plotly-2.12.1.min']\n",
       "            }\n",
       "        });\n",
       "        require(['plotly'], function(Plotly) {\n",
       "            window._Plotly = Plotly;\n",
       "        });\n",
       "        }\n",
       "        </script>\n",
       "        "
      ]
     },
     "metadata": {},
     "output_type": "display_data"
    },
    {
     "data": {
      "text/html": [
       "        <script type=\"text/javascript\">\n",
       "        window.PlotlyConfig = {MathJaxConfig: 'local'};\n",
       "        if (window.MathJax && window.MathJax.Hub && window.MathJax.Hub.Config) {window.MathJax.Hub.Config({SVG: {font: \"STIX-Web\"}});}\n",
       "        if (typeof require !== 'undefined') {\n",
       "        require.undef(\"plotly\");\n",
       "        requirejs.config({\n",
       "            paths: {\n",
       "                'plotly': ['https://cdn.plot.ly/plotly-2.12.1.min']\n",
       "            }\n",
       "        });\n",
       "        require(['plotly'], function(Plotly) {\n",
       "            window._Plotly = Plotly;\n",
       "        });\n",
       "        }\n",
       "        </script>\n",
       "        "
      ]
     },
     "metadata": {},
     "output_type": "display_data"
    }
   ],
   "source": [
    "init_notebook_mode(connected=True)\n",
    "%matplotlib inline\n",
    "sns.set_style(\"dark\")\n",
    "plt.style.use(\"ggplot\")\n",
    "cf.go_offline()\n",
    "warnings.filterwarnings(\"ignore\")\n",
    "pd.set_option(\"display.max_columns\", None)\n",
    "pd.set_option('display.float_format', '{:.5f}'.format)"
   ]
  },
  {
   "cell_type": "code",
   "execution_count": 3,
   "id": "f81a9861",
   "metadata": {
    "scrolled": true
   },
   "outputs": [],
   "source": [
    "df = pd.read_csv(r\"..\\data\\ridership\\daily.csv\")"
   ]
  },
  {
   "cell_type": "code",
   "execution_count": 4,
   "id": "82717c0a",
   "metadata": {},
   "outputs": [
    {
     "name": "stdout",
     "output_type": "stream",
     "text": [
      "y_T has 635 rows and 13 columns\n",
      "q_T has 635 rows and 13 columns\n"
     ]
    }
   ],
   "source": [
    "en_cols = []\n",
    "for i in range(df.shape[1]):\n",
    "    if df.columns[i].endswith(\"en\") is True:\n",
    "        en_cols.append(df.columns[i])\n",
    "        \n",
    "ex_cols = []\n",
    "for i in range(df.shape[1]):\n",
    "    if df.columns[i].endswith(\"ex\") is True:\n",
    "        ex_cols.append(df.columns[i])\n",
    "\n",
    "y_T = df[ex_cols].copy()\n",
    "print(f\"y_T has {y_T.shape[0]} rows and {y_T.shape[1]} columns\")\n",
    "q_T = df[en_cols].copy()\n",
    "print(f\"q_T has {q_T.shape[0]} rows and {q_T.shape[1]} columns\")\n",
    "K = q_T.shape[0]"
   ]
  },
  {
   "cell_type": "code",
   "execution_count": 5,
   "id": "112938eb",
   "metadata": {},
   "outputs": [
    {
     "data": {
      "text/plain": [
       "Index(['Recto-ex', 'Legarda-ex', 'Pureza-ex', 'Vmapa-ex', 'Jruiz-ex',\n",
       "       'Gilmore-ex', 'Bettygo-ex', 'Cubao-ex', 'Anonas-ex', 'Katipunan-ex',\n",
       "       'Santolan-ex', 'Marikina-ex', 'Antipolo-ex'],\n",
       "      dtype='object')"
      ]
     },
     "execution_count": 5,
     "metadata": {},
     "output_type": "execute_result"
    }
   ],
   "source": [
    "y_T.columns"
   ]
  },
  {
   "cell_type": "code",
   "execution_count": 6,
   "id": "f7a7a44b",
   "metadata": {
    "scrolled": true
   },
   "outputs": [],
   "source": [
    "for i in range(q_T.shape[1]):\n",
    "    q_T[q_T.columns[i]] = q_T[q_T.columns[i]].str.replace(\",\",\"\").astype(np.int32)\n",
    "    \n",
    "for i in range(y_T.shape[1]):\n",
    "    y_T[y_T.columns[i]] = y_T[y_T.columns[i]].str.replace(\",\",\"\").astype(np.int32)"
   ]
  },
  {
   "cell_type": "code",
   "execution_count": 7,
   "id": "2057c575",
   "metadata": {},
   "outputs": [],
   "source": [
    "y = y_T.T\n",
    "q = q_T.T"
   ]
  },
  {
   "cell_type": "code",
   "execution_count": 8,
   "id": "f7893714",
   "metadata": {},
   "outputs": [],
   "source": [
    "class OnlineVariance(object):\n",
    "    \n",
    "    def __init__(self, iterable=None, ddof=1):\n",
    "        self.ddof, self.n, self.mean, self.M2 = ddof, 0, 0.0, 0.0\n",
    "        if iterable is not None:\n",
    "            for datum in iterable:\n",
    "                self.include(datum)\n",
    "\n",
    "    def include(self, datum):\n",
    "        self.n += 1\n",
    "        self.delta = datum - self.mean\n",
    "        self.mean += self.delta / self.n\n",
    "        self.M2 += self.delta * (datum - self.mean)\n",
    "\n",
    "    @property\n",
    "    def variance(self):\n",
    "        if (self.n - self.ddof) != 0:\n",
    "            return self.M2 / (self.n - self.ddof)\n",
    "        return self.M2 / self.n\n",
    "\n",
    "    @property\n",
    "    def std(self):\n",
    "        return np.sqrt(self.variance)"
   ]
  },
  {
   "cell_type": "code",
   "execution_count": 9,
   "id": "5f186981",
   "metadata": {},
   "outputs": [],
   "source": [
    "Q_T = pd.DataFrame(columns=q_T.columns)\n",
    "Y_T = pd.DataFrame(columns=y_T.columns)"
   ]
  },
  {
   "cell_type": "code",
   "execution_count": 10,
   "id": "c8e82782",
   "metadata": {},
   "outputs": [],
   "source": [
    "for i in range(q_T.shape[1]):\n",
    "    ov = OnlineVariance(ddof=1)\n",
    "    empty = []\n",
    "    dummy = q_T[q_T.columns[i]]\n",
    "    dummy = dummy.to_numpy()\n",
    "    for j in dummy:\n",
    "        ov.include(j)\n",
    "        std = ov.std\n",
    "        empty.append(std)\n",
    "    Q_T[q_T.columns[i]] = empty"
   ]
  },
  {
   "cell_type": "code",
   "execution_count": 11,
   "id": "e48e0361",
   "metadata": {},
   "outputs": [],
   "source": [
    "for i in range(y_T.shape[1]):\n",
    "    ov = OnlineVariance(ddof=1)\n",
    "    empty = []\n",
    "    dummy = y_T[y_T.columns[i]]\n",
    "    dummy = dummy.to_numpy()\n",
    "    for j in dummy:\n",
    "        ov.include(j)\n",
    "        std = ov.std\n",
    "        empty.append(std)\n",
    "    Y_T[y_T.columns[i]] = empty"
   ]
  },
  {
   "cell_type": "code",
   "execution_count": 12,
   "id": "74549a67",
   "metadata": {},
   "outputs": [],
   "source": [
    "a = np.dot(y_T, y)\n",
    "b = Q_T.to_numpy()\n",
    "c = y.to_numpy()\n",
    "d = q_T.to_numpy()\n",
    "e = q.to_numpy()\n",
    "# f = 2 * b @ B @ c\n",
    "# g = d @ B @ B.T @ e\n",
    "Kinv = 1/q.shape[1]"
   ]
  },
  {
   "cell_type": "code",
   "execution_count": 13,
   "id": "09bba043",
   "metadata": {},
   "outputs": [],
   "source": [
    "joined = pd.concat([y_T.copy(), q_T.copy()], axis=1)\n",
    "joined.columns = joined.columns.str.replace(\"-\", \"\")"
   ]
  },
  {
   "cell_type": "code",
   "execution_count": 14,
   "id": "4de8e7ad",
   "metadata": {},
   "outputs": [],
   "source": [
    "# ols = ols('Rectoex ~ Rectoen', data=joined).fit()"
   ]
  },
  {
   "cell_type": "code",
   "execution_count": 15,
   "id": "c5feb34e",
   "metadata": {
    "scrolled": true
   },
   "outputs": [],
   "source": [
    "# dir(ols)"
   ]
  },
  {
   "cell_type": "code",
   "execution_count": 26,
   "id": "3e46be8b",
   "metadata": {
    "scrolled": false
   },
   "outputs": [
    {
     "data": {
      "image/png": "[encoded data removed]",
      "text/plain": [
       "<Figure size 640x480 with 1 Axes>"
      ]
     },
     "metadata": {},
     "output_type": "display_data"
    }
   ],
   "source": [
    "plot_acf(joined['Rectoen'], lags=60)\n",
    "plt.ylim(0,1.75)\n",
    "plt.xlabel('Lags', fontsize=10)\n",
    "plt.ylabel('Correlation', fontsize=10)\n",
    "plt.xticks(fontsize=10)\n",
    "plt.yticks(fontsize=10)\n",
    "plt.title('Autoregressive Plot', fontsize=12)\n",
    "plt.tight_layout()"
   ]
  },
  {
   "cell_type": "code",
   "execution_count": 17,
   "id": "07324d20",
   "metadata": {},
   "outputs": [],
   "source": [
    "def splitb(df, q, y):\n",
    "    iv = df[y]\n",
    "    dv = df[q]\n",
    "    model = sm.OLS(dv, iv, data=df).fit()\n",
    "    residuals = model.resid\n",
    "    incrdw = np.ndarray(shape=(model.resid.shape[0], 1), dtype=float)\n",
    "    for i in range(residuals.shape[0]):\n",
    "        if i != 0:\n",
    "            incrdw[i, 0] = (((residuals[i] + residuals[i-1]) ** 2) / ((residuals[i]) ** 2))\n",
    "        else:\n",
    "            incrdw[i, 0] = (((residuals[i]) ** 2) / ((residuals[i]) ** 2))\n",
    "    result = scipy.stats.kendalltau(df[y], incrdw, nan_policy=\"omit\")\n",
    "#     return incrdw\n",
    "    return abs(result[0])"
   ]
  },
  {
   "cell_type": "code",
   "execution_count": 18,
   "id": "87069f1c",
   "metadata": {},
   "outputs": [],
   "source": [
    "split_b = pd.DataFrame(columns=y_T.columns.str.replace(\"-\", \"\"), index=q_T.columns.str.replace(\"-\", \"\"))\n",
    "split_b = split_b.iloc[::-1, ::-1]"
   ]
  },
  {
   "cell_type": "code",
   "execution_count": 19,
   "id": "aca698c5",
   "metadata": {
    "scrolled": true
   },
   "outputs": [],
   "source": [
    "for i in q_T.columns.str.replace(\"-\", \"\"):\n",
    "    for j in y_T.columns.str.replace(\"-\", \"\"):\n",
    "        split_b.loc[i, j] = splitb(joined, i, j)"
   ]
  },
  {
   "cell_type": "code",
   "execution_count": 20,
   "id": "1bd1c8b4",
   "metadata": {},
   "outputs": [],
   "source": [
    "# split_b.to_csv(\"splitparameters.csv\")"
   ]
  },
  {
   "cell_type": "code",
   "execution_count": 21,
   "id": "160232a5",
   "metadata": {},
   "outputs": [],
   "source": [
    "# m.modelSense = GRB.MINIMIZE\n",
    "# m.setObjective((Kinv * ((a - f + g).sum(axis=0))).max(axis=1))"
   ]
  },
  {
   "cell_type": "code",
   "execution_count": 22,
   "id": "811628a8",
   "metadata": {},
   "outputs": [],
   "source": [
    "# m.addConstrs(for i in B.shape[0] for j in B.shape[1] B.sum(1))"
   ]
  },
  {
   "cell_type": "code",
   "execution_count": 23,
   "id": "c1728e8f",
   "metadata": {},
   "outputs": [],
   "source": [
    "# help(GRB.attr)"
   ]
  }
 ],
 "metadata": {
  "kernelspec": {
   "display_name": "Data_Analysis_3912",
   "language": "python",
   "name": "data_analysis_3912"
  },
  "language_info": {
   "codemirror_mode": {
    "name": "ipython",
    "version": 3
   },
   "file_extension": ".py",
   "mimetype": "text/x-python",
   "name": "python",
   "nbconvert_exporter": "python",
   "pygments_lexer": "ipython3",
   "version": "3.9.12"
  }
 },
 "nbformat": 4,
 "nbformat_minor": 5
}
